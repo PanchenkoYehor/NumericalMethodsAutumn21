{
 "cells": [
  {
   "cell_type": "markdown",
   "id": "c48d7d9e",
   "metadata": {},
   "source": [
    "# Panchenko Yehor, variant 14"
   ]
  },
  {
   "cell_type": "code",
   "execution_count": 25,
   "id": "18c3bf3e",
   "metadata": {},
   "outputs": [],
   "source": [
    "import numpy as np\n",
    "np.set_printoptions(suppress=True)"
   ]
  },
  {
   "cell_type": "markdown",
   "id": "26870654",
   "metadata": {},
   "source": [
    "The input matrix is A"
   ]
  },
  {
   "cell_type": "code",
   "execution_count": 26,
   "id": "42fecf0e",
   "metadata": {},
   "outputs": [
    {
     "data": {
      "text/plain": [
       "array([[ 894,  207, -248, -269, -281],\n",
       "       [ 207,  646,  -42,  -42,  464],\n",
       "       [-248,  -42,  970,  225,  -15],\n",
       "       [-269,  -42,  225,  174,   -5],\n",
       "       [-281,  464,  -15,   -5,  917]])"
      ]
     },
     "execution_count": 26,
     "metadata": {},
     "output_type": "execute_result"
    }
   ],
   "source": [
    "n = 5\n",
    "A = np.array([[894, 207, -248, -269, -281],\n",
    "              [207, 646, -42, -42, 464],\n",
    "              [-248, -42, 970, 225, -15],\n",
    "              [-269, -42, 225, 174, -5],\n",
    "              [-281, 464, -15, -5, 917]])\n",
    "A"
   ]
  },
  {
   "cell_type": "markdown",
   "id": "27d73550",
   "metadata": {},
   "source": [
    "# Task 1"
   ]
  },
  {
   "cell_type": "markdown",
   "id": "8aaf142d",
   "metadata": {},
   "source": [
    "Use dot product method to find the biggest eigenvalue of the matrix A"
   ]
  },
  {
   "cell_type": "code",
   "execution_count": 27,
   "id": "8431f825",
   "metadata": {
    "scrolled": true
   },
   "outputs": [
    {
     "name": "stdout",
     "output_type": "stream",
     "text": [
      "eigenvalue =  1366.46306365909\n",
      "eigenvector =  [-0.66678069  0.05519263  0.53424171  0.24734458  0.45361188]\n",
      "bias =  [-0.03845347 -0.13856489  0.08476505  0.03296986 -0.15738077]\n"
     ]
    }
   ],
   "source": [
    "y = list([np.ones(5)])\n",
    "eps = 1e-5\n",
    "s = list([np.dot(y[0], y[0])])\n",
    "x = list([y / np.sqrt(s)])\n",
    "t = list([0])\n",
    "eigenvalues = list([0])\n",
    "\n",
    "step = 1000\n",
    "eps = 1e-4\n",
    "\n",
    "for k in range(1, step):\n",
    "    #print(A.shape, x[k-1].T.shape)\n",
    "    y.append((np.matmul(A, x[k - 1].T).T).flatten())\n",
    "    #print('y = ', y)\n",
    "    #print(y[k].shape)\n",
    "    s.append(np.dot(y[k], y[k]))\n",
    "    t.append(np.dot(y[k], x[k - 1].T))\n",
    "    x.append(y[k] / np.sqrt(s[k]))\n",
    "    eigenvalues.append(s[k] / t[k])\n",
    "    if abs(eigenvalues[-2] - eigenvalues[-1]) <= eps:\n",
    "        break;\n",
    "    \n",
    "print('eigenvalue = ', eigenvalues[-1])\n",
    "print('eigenvector = ', x[-1])\n",
    "\n",
    "print('bias = ', np.matmul(A, x[-1].T) - eigenvalues[-1] * x[-1])"
   ]
  },
  {
   "cell_type": "markdown",
   "id": "414f454b",
   "metadata": {},
   "source": [
    "Print intermediate results"
   ]
  },
  {
   "cell_type": "code",
   "execution_count": 28,
   "id": "fa2c5106",
   "metadata": {},
   "outputs": [
    {
     "name": "stdout",
     "output_type": "stream",
     "text": [
      "y, lambda =  [1. 1. 1. 1. 1.] 0\n",
      "y, lambda =  [135.50571944 551.41436325 398.02009999  37.11872843 482.99068314] [996.79214266]\n",
      "y, lambda =  [-10.79292299 697.61861151 390.62884231  40.18082465 773.78923991] 1147.437592531269\n",
      "y, lambda =  [-170.96708761  708.95006252  314.09076945   58.03407276  925.27160936] 1240.4623724503488\n",
      "y, lambda =  [-294.59604888  685.11675499  259.26380054   75.66147116  999.84949263] 1285.1755677795443\n",
      "y, lambda =  [-381.71039878  651.49270825  233.33749017   91.65262967 1029.00743462] 1304.6005974552088\n",
      "y, lambda =  [-444.42121201  619.39989259  229.74022453  106.57316296 1037.27498685] 1313.9407765467097\n"
     ]
    }
   ],
   "source": [
    "for yk, lk in zip(y[:7], eigenvalues[:7]):\n",
    "    print('y, lambda = ', yk, lk)"
   ]
  },
  {
   "cell_type": "markdown",
   "id": "c9989e10",
   "metadata": {},
   "source": [
    "# Task 2"
   ]
  },
  {
   "cell_type": "markdown",
   "id": "03c290ae",
   "metadata": {},
   "source": [
    "Use QR-algorithm to find all eigenvalues of the matrix A"
   ]
  },
  {
   "cell_type": "code",
   "execution_count": 29,
   "id": "f59c43eb",
   "metadata": {
    "scrolled": true
   },
   "outputs": [
    {
     "name": "stdout",
     "output_type": "stream",
     "text": [
      "eigenvalues =  [1366.46364021 1266.16093029  759.32940591  177.14309036   31.90293322]\n"
     ]
    }
   ],
   "source": [
    "List_A = [A]\n",
    "List_Q = []\n",
    "List_R = []\n",
    "\n",
    "step = 100\n",
    "for k in range(step):\n",
    "    Q, R = np.linalg.qr(List_A[-1])\n",
    "    List_Q.append(Q)\n",
    "    List_R.append(R)\n",
    "    List_A.append(np.matmul(R, Q))\n",
    "    \n",
    "print('eigenvalues = ', np.diagonal(List_A[-1]))"
   ]
  },
  {
   "cell_type": "markdown",
   "id": "a4a08463",
   "metadata": {},
   "source": [
    "Print intermediate results"
   ]
  },
  {
   "cell_type": "code",
   "execution_count": 30,
   "id": "b957b170",
   "metadata": {},
   "outputs": [
    {
     "name": "stdout",
     "output_type": "stream",
     "text": [
      "[[ 894  207 -248 -269 -281]\n",
      " [ 207  646  -42  -42  464]\n",
      " [-248  -42  970  225  -15]\n",
      " [-269  -42  225  174   -5]\n",
      " [-281  464  -15   -5  917]]\n",
      "[[1257.15416656  -76.10134608 -213.3302318    41.1768058    29.63350668]\n",
      " [ -76.10134608 1215.18886253  -97.11937374 -155.33920023  -70.55751836]\n",
      " [-213.3302318   -97.11937374  887.90325613   44.95636941   15.90073699]\n",
      " [  41.1768058  -155.33920023   44.95636941  189.42645395   54.66347638]\n",
      " [  29.63350668  -70.55751836   15.90073699   54.66347638   51.32726084]]\n",
      "[[1326.18760647  -47.37863709 -136.09667485    6.76293005   -0.77702635]\n",
      " [ -47.37863709 1253.25760281  -87.38102684  -24.0332383     1.8425771 ]\n",
      " [-136.09667485  -87.38102684  811.8776396     7.41391008   -0.52984172]\n",
      " [   6.76293005  -24.0332383     7.41391008  177.2894755    -8.39241434]\n",
      " [  -0.77702635    1.8425771    -0.52984172   -8.39241434   32.38767562]]\n",
      "[[1351.10161239  -29.09219469  -80.01498181    0.90261547    0.01861246]\n",
      " [ -29.09219469 1262.52705829  -60.07532721   -3.34356977   -0.04569765]\n",
      " [ -80.01498181  -60.07532721  778.31222597    1.27344808    0.01776458]\n",
      " [   0.90261547   -3.34356977    1.27344808  177.14053015    1.50714482]\n",
      " [   0.01861246   -0.04569765    0.01776458    1.50714482   31.9185732 ]]\n",
      "[[1359.59550059  -21.21361059  -45.40539959    0.11812678   -0.00043864]\n",
      " [ -21.21361059 1266.42881417  -38.4308133    -0.46400355    0.00113591]\n",
      " [ -45.40539959  -38.4308133   765.92935552    0.25217422   -0.00066042]\n",
      " [   0.11812678   -0.46400355    0.25217422  177.14288925   -0.27142628]\n",
      " [  -0.00043864    0.00113591   -0.00066042   -0.27142628   31.90344047]]\n",
      "[[1362.56135572  -17.64258212  -25.44405644    0.01538049    0.00001029]\n",
      " [ -17.64258212 1267.79140665  -23.9300491    -0.06441437   -0.00002829]\n",
      " [ -25.44405644  -23.9300491   761.60120514    0.05467952    0.00002624]\n",
      " [   0.01538049   -0.06441437    0.05467952  177.14308281    0.04888307]\n",
      " [   0.00001029   -0.00002829    0.00002624    0.04888307   31.90294968]]\n",
      "[[1363.73087754  -15.6819675   -14.19556003    0.00199906   -0.00000024]\n",
      " [ -15.6819675  1268.11187705  -14.72996317   -0.00894804    0.00000071]\n",
      " [ -14.19556003  -14.72996317  760.11122148    0.01238292   -0.00000108]\n",
      " [   0.00199906   -0.00894804    0.01238292  177.14309017   -0.00880369]\n",
      " [  -0.00000024    0.00000071   -0.00000108   -0.00880369   31.90293376]]\n"
     ]
    }
   ],
   "source": [
    "for a in List_A[:7]:\n",
    "    print(a)"
   ]
  }
 ],
 "metadata": {
  "kernelspec": {
   "display_name": "Python 3",
   "language": "python",
   "name": "python3"
  },
  "language_info": {
   "codemirror_mode": {
    "name": "ipython",
    "version": 3
   },
   "file_extension": ".py",
   "mimetype": "text/x-python",
   "name": "python",
   "nbconvert_exporter": "python",
   "pygments_lexer": "ipython3",
   "version": "3.8.5"
  }
 },
 "nbformat": 4,
 "nbformat_minor": 5
}
