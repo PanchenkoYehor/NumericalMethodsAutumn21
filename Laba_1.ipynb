{
 "cells": [
  {
   "cell_type": "code",
   "execution_count": 10,
   "id": "18c3bf3e",
   "metadata": {},
   "outputs": [],
   "source": [
    "import numpy as np"
   ]
  },
  {
   "cell_type": "code",
   "execution_count": 11,
   "id": "42fecf0e",
   "metadata": {},
   "outputs": [
    {
     "data": {
      "text/plain": [
       "array([[ 894,  207, -248, -269, -281],\n",
       "       [ 207,  646,  -42,  -42,  464],\n",
       "       [-248,  -42,  970,  225,  -15],\n",
       "       [-269,  -42,  225,  174,   -5],\n",
       "       [-281,  464,  -15,   -5,  917]])"
      ]
     },
     "execution_count": 11,
     "metadata": {},
     "output_type": "execute_result"
    }
   ],
   "source": [
    "n = 5\n",
    "A = np.array([[894, 207, -248, -269, -281],\n",
    "              [207, 646, -42, -42, 464],\n",
    "              [-248, -42, 970, 225, -15],\n",
    "              [-269, -42, 225, 174, -5],\n",
    "              [-281, 464, -15, -5, 917]])\n",
    "A"
   ]
  },
  {
   "cell_type": "markdown",
   "id": "27d73550",
   "metadata": {},
   "source": [
    "# Task 1"
   ]
  },
  {
   "cell_type": "code",
   "execution_count": 12,
   "id": "8431f825",
   "metadata": {},
   "outputs": [
    {
     "name": "stdout",
     "output_type": "stream",
     "text": [
      "eigenvalue =  1366.46306365909\n",
      "eigenvector =  [-0.66678069  0.05519263  0.53424171  0.24734458  0.45361188]\n",
      "bias =  [-0.03845347 -0.13856489  0.08476505  0.03296986 -0.15738077]\n"
     ]
    }
   ],
   "source": [
    "y = list([np.ones(5)])\n",
    "eps = 1e-5\n",
    "s = list([np.dot(y[0], y[0])])\n",
    "x = list([y / np.sqrt(s)])\n",
    "t = list([0])\n",
    "eigenvalues = list([0])\n",
    "\n",
    "step = 1000\n",
    "eps = 1e-4\n",
    "\n",
    "for k in range(1, step):\n",
    "    #print(A.shape, x[k-1].T.shape)\n",
    "    y.append((np.matmul(A, x[k - 1].T).T).flatten())\n",
    "    #print('y = ', y)\n",
    "    #print(y[k].shape)\n",
    "    s.append(np.dot(y[k], y[k]))\n",
    "    t.append(np.dot(y[k], x[k - 1].T))\n",
    "    x.append(y[k] / np.sqrt(s[k]))\n",
    "    eigenvalues.append(s[k] / t[k])\n",
    "    if abs(eigenvalues[-2] - eigenvalues[-1]) <= eps:\n",
    "        break;\n",
    "    \n",
    "print('eigenvalue = ', eigenvalues[-1])\n",
    "print('eigenvector = ', x[-1])\n",
    "\n",
    "print('bias = ', np.matmul(A, x[-1].T) - eigenvalues[-1] * x[-1])"
   ]
  },
  {
   "cell_type": "markdown",
   "id": "c9989e10",
   "metadata": {},
   "source": [
    "# Task 2"
   ]
  },
  {
   "cell_type": "code",
   "execution_count": 13,
   "id": "0ff57519",
   "metadata": {},
   "outputs": [
    {
     "name": "stdout",
     "output_type": "stream",
     "text": [
      "eigenvalues =  [1366.46364021 1266.16093029  759.32940591  177.14309036   31.90293322]\n"
     ]
    }
   ],
   "source": [
    "List_A = [A]\n",
    "List_Q = []\n",
    "List_R = []\n",
    "\n",
    "step = 100\n",
    "for k in range(step):\n",
    "    Q, R = np.linalg.qr(List_A[-1])\n",
    "    List_Q.append(Q)\n",
    "    List_R.append(R)\n",
    "    List_A.append(np.matmul(R, Q))\n",
    "    \n",
    "print('eigenvalues = ', np.diagonal(List_A[-1]))"
   ]
  }
 ],
 "metadata": {
  "kernelspec": {
   "display_name": "Python 3",
   "language": "python",
   "name": "python3"
  },
  "language_info": {
   "codemirror_mode": {
    "name": "ipython",
    "version": 3
   },
   "file_extension": ".py",
   "mimetype": "text/x-python",
   "name": "python",
   "nbconvert_exporter": "python",
   "pygments_lexer": "ipython3",
   "version": "3.8.5"
  }
 },
 "nbformat": 4,
 "nbformat_minor": 5
}
